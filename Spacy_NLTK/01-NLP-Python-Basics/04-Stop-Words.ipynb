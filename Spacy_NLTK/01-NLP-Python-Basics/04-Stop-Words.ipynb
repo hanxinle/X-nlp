{
 "cells": [
  {
   "cell_type": "markdown",
   "metadata": {},
   "source": [
    "# Stop Words （停顿助词、停顿语）\n",
    "Words like \"a\" and \"the\" appear so frequently that they don't require tagging as thoroughly as nouns, verbs and modifiers. We call these *stop words*, and they can be filtered from the text to be processed. spaCy holds a built-in list of some 305 English stop words."
   ]
  },
  {
   "cell_type": "code",
   "execution_count": 1,
   "metadata": {},
   "outputs": [],
   "source": [
    "# Perform standard imports:\n",
    "import spacy\n",
    "nlp = spacy.load('en_core_web_sm')"
   ]
  },
  {
   "cell_type": "code",
   "execution_count": 2,
   "metadata": {},
   "outputs": [
    {
     "name": "stdout",
     "output_type": "stream",
     "text": [
      "{'all', 'some', 'name', 'two', 'must', 'third', 'perhaps', '‘m', 'a', 'whence', 'serious', 'along', 'eight', 'moreover', '’d', 'ca', 'either', 'from', 'although', 'others', 'whereas', 'once', 'was', 'her', 'thru', 'none', 'forty', 'into', 'its', 'thus', 'hence', 'anywhere', 'whole', 'cannot', 'who', 'wherein', 'top', 'these', 'everywhere', 'toward', 'under', 'not', 'sixty', 'which', 'against', 'every', 'hers', 'latter', 'the', 'hundred', 'while', 'can', 'hereupon', 'whereby', 'same', 'across', 'below', 'as', 'never', 'may', 'someone', 'yourselves', 'nowhere', 'another', 'least', \"'ve\", 'per', 'myself', 'noone', 'upon', 'somewhere', 'any', 'there', 'though', 'thereupon', 'well', \"'m\", 'nine', 'via', 'otherwise', 'without', 'now', 'ourselves', 'twelve', 'ten', 'next', 'mine', 'much', 'used', 'are', 'until', 'will', 'if', 'say', 'side', 'sometime', 're', 'three', 'do', 'during', 'by', 'around', 'themselves', 'empty', 'move', 'six', 'of', 'always', 'their', 'then', 'take', 'what', 'latterly', 'whereupon', 'anyone', 'ours', 'please', 'becomes', 'whenever', 'back', \"'d\", 'were', 'between', 'at', 'should', 'whoever', 'me', 'amongst', 'however', 'does', 'your', 'nevertheless', 'whether', 'or', 'both', 'more', 'been', 'had', 'elsewhere', 'she', 'fifty', 'above', 'keep', 'thereafter', \"n't\", 'besides', '‘s', 'former', 'therein', '‘re', 'thence', 'fifteen', 'whose', 'made', 'down', 'but', 'in', 'with', 'regarding', 'after', 'you', 'thereby', 'might', 'using', 'that', 'since', 'he', 'seems', 'various', 'than', 'everyone', 'put', 'alone', 'own', 'has', 'due', 'less', 'beforehand', 'towards', 'also', 'everything', 'together', \"'s\", 'on', 'could', 'no', 'up', 'something', 'because', 'several', 'afterwards', 'yours', 'twenty', 'whatever', 'n’t', 'else', 'those', '‘ve', 'seemed', 'them', 'himself', '’ve', 'again', 'out', 'it', 'five', 'seeming', 'how', 'and', 'few', 'beyond', 'most', 'rather', 'therefore', 'still', 'they', 'among', 'have', 'be', 'even', 'quite', 'whom', 'namely', 'show', 'often', 'go', 'wherever', 'him', 'our', 'one', 'before', 'so', 'why', 'yet', 'yourself', 'bottom', 'nobody', 'n‘t', 'further', 'over', 'anyhow', \"'ll\", 'eleven', 'about', 'is', '’ll', '’m', 'throughout', 'become', 'sometimes', 'doing', 'here', 'an', 'first', 'nothing', 'such', '‘ll', 'my', 'herself', 'four', 'hereafter', 'other', 'meanwhile', 'did', 'where', 'almost', 'many', 'get', 'indeed', 'nor', 'became', 'too', 'unless', 'very', '’s', 'front', 'behind', 'beside', 'to', 'anything', 'i', 'for', \"'re\", 'neither', 'really', 'see', 'only', 'done', 'formerly', '‘d', 'herein', 'part', 'would', 'within', 'anyway', 'hereby', 'am', 'itself', 'this', 'we', 'his', '’re', 'give', 'onto', 'becoming', 'seem', 'except', 'each', 'amount', 'off', 'make', 'whither', 'just', 'full', 'through', 'mostly', 'already', 'when', 'whereafter', 'call', 'being', 'ever', 'last', 'somehow', 'enough', 'us'}\n"
     ]
    }
   ],
   "source": [
    "# Print the set of spaCy's default stop words (remember that sets are unordered):\n",
    "print(nlp.Defaults.stop_words)"
   ]
  },
  {
   "cell_type": "code",
   "execution_count": 3,
   "metadata": {},
   "outputs": [
    {
     "data": {
      "text/plain": [
       "326"
      ]
     },
     "execution_count": 3,
     "metadata": {},
     "output_type": "execute_result"
    }
   ],
   "source": [
    "len(nlp.Defaults.stop_words)"
   ]
  },
  {
   "cell_type": "markdown",
   "metadata": {},
   "source": [
    "## To see if a word is a stop word"
   ]
  },
  {
   "cell_type": "code",
   "execution_count": 4,
   "metadata": {},
   "outputs": [
    {
     "data": {
      "text/plain": [
       "True"
      ]
     },
     "execution_count": 4,
     "metadata": {},
     "output_type": "execute_result"
    }
   ],
   "source": [
    "nlp.vocab['myself'].is_stop"
   ]
  },
  {
   "cell_type": "code",
   "execution_count": 5,
   "metadata": {},
   "outputs": [
    {
     "data": {
      "text/plain": [
       "False"
      ]
     },
     "execution_count": 5,
     "metadata": {},
     "output_type": "execute_result"
    }
   ],
   "source": [
    "nlp.vocab['mystery'].is_stop"
   ]
  },
  {
   "cell_type": "markdown",
   "metadata": {},
   "source": [
    "## To add a stop word\n",
    "There may be times when you wish to add a stop word to the default set. Perhaps you decide that `'btw'` (common shorthand for \"by the way\") should be considered a stop word."
   ]
  },
  {
   "cell_type": "code",
   "execution_count": 6,
   "metadata": {},
   "outputs": [],
   "source": [
    "# Add the word to the set of stop words. Use lowercase!\n",
    "nlp.Defaults.stop_words.add('btw')\n",
    "\n",
    "# Set the stop_word tag on the lexeme\n",
    "nlp.vocab['btw'].is_stop = True"
   ]
  },
  {
   "cell_type": "code",
   "execution_count": 7,
   "metadata": {},
   "outputs": [
    {
     "data": {
      "text/plain": [
       "327"
      ]
     },
     "execution_count": 7,
     "metadata": {},
     "output_type": "execute_result"
    }
   ],
   "source": [
    "len(nlp.Defaults.stop_words)"
   ]
  },
  {
   "cell_type": "code",
   "execution_count": 8,
   "metadata": {},
   "outputs": [
    {
     "data": {
      "text/plain": [
       "True"
      ]
     },
     "execution_count": 8,
     "metadata": {},
     "output_type": "execute_result"
    }
   ],
   "source": [
    "nlp.vocab['btw'].is_stop"
   ]
  },
  {
   "cell_type": "markdown",
   "metadata": {},
   "source": [
    "<font color=green>When adding stop words, always use lowercase. Lexemes are converted to lowercase before being added to **vocab**.</font>"
   ]
  },
  {
   "cell_type": "markdown",
   "metadata": {},
   "source": [
    "## To remove a stop word\n",
    "Alternatively, you may decide that `'beyond'` should not be considered a stop word."
   ]
  },
  {
   "cell_type": "code",
   "execution_count": 9,
   "metadata": {},
   "outputs": [],
   "source": [
    "# Remove the word from the set of stop words\n",
    "nlp.Defaults.stop_words.remove('beyond')\n",
    "\n",
    "# Remove the stop_word tag from the lexeme\n",
    "nlp.vocab['beyond'].is_stop = False"
   ]
  },
  {
   "cell_type": "code",
   "execution_count": 10,
   "metadata": {},
   "outputs": [
    {
     "data": {
      "text/plain": [
       "326"
      ]
     },
     "execution_count": 10,
     "metadata": {},
     "output_type": "execute_result"
    }
   ],
   "source": [
    "len(nlp.Defaults.stop_words)"
   ]
  },
  {
   "cell_type": "code",
   "execution_count": 11,
   "metadata": {},
   "outputs": [
    {
     "data": {
      "text/plain": [
       "False"
      ]
     },
     "execution_count": 11,
     "metadata": {},
     "output_type": "execute_result"
    }
   ],
   "source": [
    "nlp.vocab['beyond'].is_stop"
   ]
  },
  {
   "cell_type": "markdown",
   "metadata": {},
   "source": [
    "Great! Now you should be able to access spaCy's default set of stop words, and add or remove stop words as needed.\n",
    "## Next up: Vocabulary and Matching"
   ]
  },
  {
   "cell_type": "code",
   "execution_count": null,
   "metadata": {},
   "outputs": [],
   "source": []
  }
 ],
 "metadata": {
  "kernelspec": {
   "display_name": "Python 3",
   "language": "python",
   "name": "python3"
  },
  "language_info": {
   "codemirror_mode": {
    "name": "ipython",
    "version": 3
   },
   "file_extension": ".py",
   "mimetype": "text/x-python",
   "name": "python",
   "nbconvert_exporter": "python",
   "pygments_lexer": "ipython3",
   "version": "3.7.5"
  }
 },
 "nbformat": 4,
 "nbformat_minor": 2
}
